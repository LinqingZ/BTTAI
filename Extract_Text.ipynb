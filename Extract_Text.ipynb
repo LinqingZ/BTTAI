{
 "cells": [
  {
   "cell_type": "code",
   "execution_count": 1,
   "metadata": {},
   "outputs": [
    {
     "name": "stdout",
     "output_type": "stream",
     "text": [
      "Rate 80. Sinus rhythm\n",
      "RR 750\n",
      "PR 166\n",
      "QRsD 87\n",
      "or 388\n",
      "QTcB 8448\n",
      "427\n",
      "—-AXIS--\n",
      "P 75\n",
      "oRs 66\n",
      "79\n",
      "\n",
      "T\n",
      "12 Lead; Standard Placement\n",
      "\n",
      "- NORMAL ECG -\n",
      "\n",
      "is, V-rate 50-\n",
      "\n",
      "Unconfirmed Diagnosis\n",
      "\n",
      "E]\n",
      "\n",
      "eal aE 2 |\n",
      "\n",
      "Tr i\n",
      "| | J else lis A [=\n",
      "\n",
      "ee a ea 2 pa Ma ale: if Nd\n",
      "\n",
      "A cc: wal ar “ame a t ahi\n",
      "IZ iF : ed he : eT iar i\n",
      "Sean See ete) aad eee ee er eee an same a ra\n",
      "rr avert |i 3 + Le | ow3\n",
      "\n",
      "Lia aw ball 5 0s (ea\n",
      "\n",
      "i z 2 | EB fo\n",
      "aha cana KIA is BAe ely\n",
      "\n",
      "\n"
     ]
    }
   ],
   "source": [
    "from PIL import Image\n",
    "from pytesseract import pytesseract\n",
    "\n",
    "#Define path to tessaract.exe\n",
    "path_to_tesseract = r'C:\\Program Files\\Tesseract-OCR\\tesseract.exe'\n",
    "\n",
    "#Define path to image\n",
    "path_to_image = 'test.png'\n",
    "\n",
    "#Point tessaract_cmd to tessaract.exe\n",
    "pytesseract.tesseract_cmd = path_to_tesseract\n",
    "\n",
    "#Open image with PIL\n",
    "img = Image.open(path_to_image)\n",
    "\n",
    "#Extract text from image\n",
    "text = pytesseract.image_to_string(img)\n",
    "\n",
    "print(text)"
   ]
  },
  {
   "cell_type": "code",
   "execution_count": 1,
   "metadata": {},
   "outputs": [
    {
     "name": "stdout",
     "output_type": "stream",
     "text": [
      "See Epos sets coaeatd Tene dEPaeaToeeed Cea Fee gE\n",
      "sea ee RUC een titits\n",
      "TL in oe ie ha > aco\n",
      "\n",
      "aati ete i;\n",
      "ae Seeds tuneueat  ireryatryaaeetracctee\n",
      "Buseg apart dueverstsuectnaraz cbs (est ful! ep 7. 0br cniee\n",
      "Srna ctu nese oe\n",
      "ieee Oey Cael ema nac eed Cetra ise eset zen neacaerea\n",
      "(6) d reamst i me.com ID 127489655 © Rattanachot2525\n",
      "\n"
     ]
    }
   ],
   "source": [
    "from PIL import Image\n",
    "from pytesseract import pytesseract\n",
    "\n",
    "#Define path to tessaract.exe\n",
    "path_to_tesseract = r'C:\\Program Files\\Tesseract-OCR\\tesseract.exe'\n",
    "\n",
    "#Define path to image\n",
    "path_to_image = 'test.png'\n",
    "\n",
    "#Point tessaract_cmd to tessaract.exe\n",
    "pytesseract.tesseract_cmd = path_to_tesseract\n",
    "\n",
    "#Open image with PIL\n",
    "img = Image.open(path_to_image)\n",
    "\n",
    "#Extract text from image\n",
    "text = pytesseract.image_to_string(img, lang='eng', config='--psm 6')\n",
    "\n",
    "print(text)"
   ]
  },
  {
   "cell_type": "code",
   "execution_count": null,
   "metadata": {},
   "outputs": [],
   "source": []
  }
 ],
 "metadata": {
  "kernelspec": {
   "display_name": "Python 3.9.13 64-bit (microsoft store)",
   "language": "python",
   "name": "python3"
  },
  "language_info": {
   "codemirror_mode": {
    "name": "ipython",
    "version": 3
   },
   "file_extension": ".py",
   "mimetype": "text/x-python",
   "name": "python",
   "nbconvert_exporter": "python",
   "pygments_lexer": "ipython3",
   "version": "3.9.13"
  },
  "orig_nbformat": 4,
  "vscode": {
   "interpreter": {
    "hash": "a7dbb19f0d06cbe50704cda9f82d8d934df5c52f3392bd6a1554d4fbc210d22d"
   }
  }
 },
 "nbformat": 4,
 "nbformat_minor": 2
}
